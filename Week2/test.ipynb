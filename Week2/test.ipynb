{
 "cells": [
  {
   "cell_type": "code",
   "execution_count": 6,
   "id": "e69eaee8",
   "metadata": {},
   "outputs": [],
   "source": [
    "#!pip install torch>=2.1.0 torchvision torchaudio"
   ]
  },
  {
   "cell_type": "code",
   "execution_count": 7,
   "id": "2efefb27",
   "metadata": {},
   "outputs": [],
   "source": [
    "from datasets import load_dataset\n",
    "import torch\n",
    "from transformers import BertTokenizer, BertForSequenceClassification, Trainer, TrainingArguments"
   ]
  },
  {
   "cell_type": "code",
   "execution_count": 8,
   "id": "fe89882d",
   "metadata": {},
   "outputs": [],
   "source": [
    "#1 data\n",
    "dataset=load_dataset(\"imdb\")\n",
    "train_dataset=dataset[\"train\"].shuffle(seed=42).select(range(4000))\n",
    "test_dataset=dataset[\"test\"].shuffle(seed=42).select(range(4000))"
   ]
  },
  {
   "cell_type": "code",
   "execution_count": null,
   "id": "d55dce61",
   "metadata": {},
   "outputs": [],
   "source": [
    "#3 model\n"
   ]
  }
 ],
 "metadata": {
  "kernelspec": {
   "display_name": "hugging",
   "language": "python",
   "name": "python3"
  },
  "language_info": {
   "codemirror_mode": {
    "name": "ipython",
    "version": 3
   },
   "file_extension": ".py",
   "mimetype": "text/x-python",
   "name": "python",
   "nbconvert_exporter": "python",
   "pygments_lexer": "ipython3",
   "version": "3.10.18"
  }
 },
 "nbformat": 4,
 "nbformat_minor": 5
}
